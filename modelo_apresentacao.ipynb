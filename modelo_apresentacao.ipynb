{
  "nbformat": 4,
  "nbformat_minor": 0,
  "metadata": {
    "colab": {
      "name": "modelo_apresentacao.ipynb",
      "provenance": [],
      "collapsed_sections": [
        "eozy1LUP2m8C",
        "h4utRQfP3l6k",
        "w1UHElBN3xyI"
      ],
      "include_colab_link": true
    },
    "kernelspec": {
      "name": "python3",
      "display_name": "Python 3"
    },
    "language_info": {
      "name": "python"
    }
  },
  "cells": [
    {
      "cell_type": "markdown",
      "metadata": {
        "id": "view-in-github",
        "colab_type": "text"
      },
      "source": [
        "<a href=\"https://colab.research.google.com/github/paulomedrado/APC_/blob/main/modelo_apresentacao.ipynb\" target=\"_parent\"><img src=\"https://colab.research.google.com/assets/colab-badge.svg\" alt=\"Open In Colab\"/></a>"
      ]
    },
    {
      "cell_type": "markdown",
      "source": [
        "# Grupo A - Tráfego aéreo no Brasil"
      ],
      "metadata": {
        "id": "u9uCmN31y3xb"
      }
    },
    {
      "cell_type": "markdown",
      "source": [
        "## Membros\n",
        "\n",
        "|Matrícula|Nome Completo|\n",
        "|:---|:---|\n",
        "|221007813|André Emanuel|\n",
        "|221007949|Camile Oliveira|\n",
        "|221038776|André Luís|\n",
        "|221008070|Guilherme|\n",
        "|221007887|Bernardo Barros|\n",
        "|???|Ana Luísa|\n",
        "|221008150|João|\n",
        "|221035068|Paulo Renato|\n",
        "|211062277|Duarte|\n",
        "|221007653|Ricardo|"
      ],
      "metadata": {
        "id": "uXtoyLG4zBS0"
      }
    },
    {
      "cell_type": "markdown",
      "source": [
        "## Objetivo\n",
        "Analisar e compreender o comportamento de voôs no Brasil durante os anos de 2013, 2014 e 2015, além de oferecer uma representação gráfica sobre os dados explorados."
      ],
      "metadata": {
        "id": "W4qE8DvGzq9j"
      }
    },
    {
      "cell_type": "markdown",
      "source": [
        "## Bases de Dados\n",
        "|Nome|Descrição|\n",
        "|:---|:---|\n",
        "|[DataSet 1](https://drive.google.com/file/d/1v1r_RmQB8S9bYPtA3Y-drIyi35PxZiPM/view?usp=sharing)|Dados sobre os vôos|"
      ],
      "metadata": {
        "id": "6TJDVxjE0P5k"
      }
    },
    {
      "cell_type": "markdown",
      "source": [
        ""
      ],
      "metadata": {
        "id": "WWHJGGLk73ic"
      }
    },
    {
      "cell_type": "markdown",
      "source": [
        "## Funções Úteis"
      ],
      "metadata": {
        "id": "ZSjQytb62Jg7"
      }
    },
    {
      "cell_type": "code",
      "source": [
        "import pandas as pd\n",
        "import math\n",
        "from collections  import defaultdict"
      ],
      "metadata": {
        "id": "H4LDIOEx2IUt"
      },
      "execution_count": null,
      "outputs": []
    },
    {
      "cell_type": "markdown",
      "source": [
        "Filtrar Linhas"
      ],
      "metadata": {
        "id": "-JEM6eDw8pJO"
      }
    },
    {
      "cell_type": "code",
      "source": [
        "def filtrar_linha(tabela: pd.DataFrame, coluna: str, filtro:list):\n",
        "    tabela = tabela.to_dict()\n",
        "    linhas = tabela[coluna]\n",
        "    linhas_a_apagar=[]\n",
        "\n",
        "    for index in linhas:\n",
        "        valor = linhas[index]\n",
        "        if not str(valor) in filtro:\n",
        "            linhas_a_apagar.append(index)\n",
        "    \n",
        "    for linha in linhas_a_apagar:\n",
        "        for cabecalho in tabela:\n",
        "            tabela[cabecalho].pop(linha)\n",
        "    \n",
        "    #return pd.DataFrame(tabela)\n",
        "\n"
      ],
      "metadata": {
        "id": "TmxC_SQvzqMU"
      },
      "execution_count": null,
      "outputs": []
    },
    {
      "cell_type": "markdown",
      "source": [
        "Fatiar"
      ],
      "metadata": {
        "id": "CVU4yOkB-LKK"
      }
    },
    {
      "cell_type": "code",
      "source": [
        "def fatiar(tabela: pd.DataFrame, cabeçalho_selecionado: str, alvo: int) -> pd.DataFrame:\n",
        "    tabela = tabela.to_dict()\n",
        "    fatiador = []\n",
        "    linha = tabela[cabeçalho_selecionado]\n",
        "    for id in linha:\n",
        "        if linha[id] != alvo:\n",
        "            fatiador.append(id)\n",
        "    for linha in fatiador:\n",
        "        for corte in tabela:\n",
        "            tabela[corte].pop(linha)\n",
        "    return pd.DataFrame(tabela)"
      ],
      "metadata": {
        "id": "biwl9yMA-NXI"
      },
      "execution_count": null,
      "outputs": []
    },
    {
      "cell_type": "markdown",
      "source": [
        "Máximo"
      ],
      "metadata": {
        "id": "fK9GlFhl-WTo"
      }
    },
    {
      "cell_type": "code",
      "source": [
        "def maximo(tabela: pd.DataFrame, cabecalho_max: str) -> float:\n",
        "    \"\"\"Calcula o valor máximo de uma coluna\n",
        "    Args:\n",
        "        tabela (pd.DataFrame): Tabela a ser operada\n",
        "        cabecalho_max (str): coluna a ser operada\n",
        "    Returns:\n",
        "        float: Valor máximo dentro da coluna\n",
        "    \"\"\"\n",
        "    linhas=tabela.values.tolist()\n",
        "    cabecalhos=tabela.columns.to_list()\n",
        "    maximo = 0\n",
        "    for linha in linhas:\n",
        "        atual=linha[cabecalhos.index(cabecalho_max)]\n",
        "        if atual>maximo:\n",
        "            maximo=atual\n",
        "    return maximo"
      ],
      "metadata": {
        "id": "ReXVlsIJ-ZfW"
      },
      "execution_count": null,
      "outputs": []
    },
    {
      "cell_type": "markdown",
      "source": [
        "Soma por categoria"
      ],
      "metadata": {
        "id": "azvRcF2Z-jJb"
      }
    },
    {
      "cell_type": "code",
      "source": [
        "def soma_por_categoria(tabela: pd.DataFrame, cabecalho_categoria: str, cabecalho_a_somar: str) -> pd.DataFrame:\n",
        "    \"\"\"Soma os valores de uma coluna para cada valor diferente de outra coluna\n",
        "    Args:\n",
        "        tabela (pd.DataFrame): Tabela a ser operada\n",
        "        cabecalho_categoria (str): Cabeçalho onde estão as categorias\n",
        "        cabecalho_a_somar (str): Cabeçalho a ser calculada a soma\n",
        "    Returns:\n",
        "        pd.DataFrame: Dataframe com os dados calculados\n",
        "    \"\"\"\n",
        "    tabela = tabela.to_dict()\n",
        "\n",
        "    tabela_resultado={cabecalho_categoria:{},cabecalho_a_somar:{}}\n",
        "    coluna_a_somar = tabela[cabecalho_a_somar]\n",
        "    coluna_categoria = tabela[cabecalho_categoria]\n",
        "    soma={}\n",
        "    \n",
        "    for index in coluna_categoria:\n",
        "        valor_linha = coluna_categoria[index]\n",
        "        if valor_linha in soma:\n",
        "            soma[valor_linha]+=coluna_a_somar[index]\n",
        "        else:\n",
        "            soma[valor_linha]=coluna_a_somar[index]\n",
        "\n",
        "    linhas=len(soma)\n",
        "    i=1\n",
        "    for categoria in soma:\n",
        "        tabela_resultado[cabecalho_categoria][i] = categoria\n",
        "        tabela_resultado[cabecalho_a_somar][i] = soma[categoria]\n",
        "        i+=1\n",
        "\n",
        "    return pd.DataFrame(tabela_resultado)"
      ],
      "metadata": {
        "id": "Ls0v16mL-ktN"
      },
      "execution_count": null,
      "outputs": []
    },
    {
      "cell_type": "markdown",
      "source": [
        "Filtrar"
      ],
      "metadata": {
        "id": "JsqTv1Ut-zNy"
      }
    },
    {
      "cell_type": "code",
      "source": [
        "def filtrar(tabela: pd.DataFrame, filtros: list) -> pd.DataFrame: \n",
        "    \"\"\"Função feita para filtrar colunas em Dataframes\n",
        "    Args:\n",
        "        tabela (pd.DataFrame): A tabela que será filtrada\n",
        "        filtros (list): Lista de colunas que serão mantidas\n",
        "    Returns:\n",
        "        pd.DataFrame: Dataframe com as colunas filtradas\n",
        "    \"\"\"\n",
        "\n",
        "    linhas = tabela.values.tolist()\n",
        "    cabecalhos = tabela.columns.to_list()\n",
        "    indexes=[]\n",
        "    resultado=[]\n",
        "\n",
        "    cabecalhos_filtrados=[]\n",
        "    for cabecalho in cabecalhos:\n",
        "        if cabecalho in filtros:\n",
        "            indexes.append(cabecalhos.index(cabecalho))\n",
        "            cabecalhos_filtrados.append(cabecalho)\n",
        "    \n",
        "    linha_filtrada=[]\n",
        "    for linha in linhas:\n",
        "        linha_filtrada=[]\n",
        "        for index in indexes:\n",
        "            linha_filtrada.append(linha[index])\n",
        "        resultado.append(linha_filtrada)\n",
        "\n",
        "    return pd.DataFrame(resultado, columns=cabecalhos_filtrados)"
      ],
      "metadata": {
        "id": "1e8RL6v9-1uf"
      },
      "execution_count": null,
      "outputs": []
    },
    {
      "cell_type": "markdown",
      "source": [
        "Retirar nulos"
      ],
      "metadata": {
        "id": "FIzsEvkg-9sY"
      }
    },
    {
      "cell_type": "code",
      "source": [
        "def retirar_nulos(tabela: pd.DataFrame) -> pd.DataFrame:\n",
        "    \"\"\"Retira todas as linhas que contenham qualquer valor NaN de uma tabela\n",
        "    Args:\n",
        "        tabela (pd.DataFrame): A tabela a ser operada\n",
        "    Returns:\n",
        "        pd.DataFrame: Uma tabela com os valores nulos retirados\n",
        "    \"\"\"\n",
        "\n",
        "\n",
        "    linhas = tabela.values.tolist()\n",
        "    cabecalhos = tabela.columns.to_list()\n",
        "    linhas_resultado=[]\n",
        "    invalido = False\n",
        "\n",
        "    for linha in linhas:\n",
        "        invalido = False\n",
        "        for coluna in linha:\n",
        "            if isinstance(coluna, float):\n",
        "                if math.isnan(coluna):\n",
        "                    invalido = True\n",
        "                    break\n",
        "        if not invalido:\n",
        "            linhas_resultado.append(linha)\n",
        "    \n",
        "    return pd.DataFrame(linhas_resultado, columns=cabecalhos)"
      ],
      "metadata": {
        "id": "0UnH1sOt_ACZ"
      },
      "execution_count": null,
      "outputs": []
    },
    {
      "cell_type": "markdown",
      "source": [
        "### Base 2"
      ],
      "metadata": {
        "id": "eozy1LUP2m8C"
      }
    },
    {
      "cell_type": "code",
      "source": [
        "import pandas as pd"
      ],
      "metadata": {
        "id": "632uCtzD2m8X"
      },
      "execution_count": null,
      "outputs": []
    },
    {
      "cell_type": "code",
      "source": [
        "data={'Name':['Karan','Rohit','Sahil','Aryan'],'Age':[23,22,21,24]}\n",
        "\n",
        "df=pd.DataFrame(data,index=['No.1','No.2','No.3','No.4'])\n",
        "\n",
        "df.head(3)"
      ],
      "metadata": {
        "colab": {
          "base_uri": "https://localhost:8080/",
          "height": 175
        },
        "outputId": "a4135286-31d0-41ef-8505-fcb028862f2f",
        "id": "7vtjGr8k2m8Y"
      },
      "execution_count": null,
      "outputs": [
        {
          "output_type": "execute_result",
          "data": {
            "text/plain": [
              "       Name  Age\n",
              "No.1  Karan   23\n",
              "No.2  Rohit   22\n",
              "No.3  Sahil   21\n",
              "No.4  Aryan   24"
            ],
            "text/html": [
              "\n",
              "  <div id=\"df-88dd6553-e042-4f06-a0af-1d3aeb0dab17\">\n",
              "    <div class=\"colab-df-container\">\n",
              "      <div>\n",
              "<style scoped>\n",
              "    .dataframe tbody tr th:only-of-type {\n",
              "        vertical-align: middle;\n",
              "    }\n",
              "\n",
              "    .dataframe tbody tr th {\n",
              "        vertical-align: top;\n",
              "    }\n",
              "\n",
              "    .dataframe thead th {\n",
              "        text-align: right;\n",
              "    }\n",
              "</style>\n",
              "<table border=\"1\" class=\"dataframe\">\n",
              "  <thead>\n",
              "    <tr style=\"text-align: right;\">\n",
              "      <th></th>\n",
              "      <th>Name</th>\n",
              "      <th>Age</th>\n",
              "    </tr>\n",
              "  </thead>\n",
              "  <tbody>\n",
              "    <tr>\n",
              "      <th>No.1</th>\n",
              "      <td>Karan</td>\n",
              "      <td>23</td>\n",
              "    </tr>\n",
              "    <tr>\n",
              "      <th>No.2</th>\n",
              "      <td>Rohit</td>\n",
              "      <td>22</td>\n",
              "    </tr>\n",
              "    <tr>\n",
              "      <th>No.3</th>\n",
              "      <td>Sahil</td>\n",
              "      <td>21</td>\n",
              "    </tr>\n",
              "    <tr>\n",
              "      <th>No.4</th>\n",
              "      <td>Aryan</td>\n",
              "      <td>24</td>\n",
              "    </tr>\n",
              "  </tbody>\n",
              "</table>\n",
              "</div>\n",
              "      <button class=\"colab-df-convert\" onclick=\"convertToInteractive('df-88dd6553-e042-4f06-a0af-1d3aeb0dab17')\"\n",
              "              title=\"Convert this dataframe to an interactive table.\"\n",
              "              style=\"display:none;\">\n",
              "        \n",
              "  <svg xmlns=\"http://www.w3.org/2000/svg\" height=\"24px\"viewBox=\"0 0 24 24\"\n",
              "       width=\"24px\">\n",
              "    <path d=\"M0 0h24v24H0V0z\" fill=\"none\"/>\n",
              "    <path d=\"M18.56 5.44l.94 2.06.94-2.06 2.06-.94-2.06-.94-.94-2.06-.94 2.06-2.06.94zm-11 1L8.5 8.5l.94-2.06 2.06-.94-2.06-.94L8.5 2.5l-.94 2.06-2.06.94zm10 10l.94 2.06.94-2.06 2.06-.94-2.06-.94-.94-2.06-.94 2.06-2.06.94z\"/><path d=\"M17.41 7.96l-1.37-1.37c-.4-.4-.92-.59-1.43-.59-.52 0-1.04.2-1.43.59L10.3 9.45l-7.72 7.72c-.78.78-.78 2.05 0 2.83L4 21.41c.39.39.9.59 1.41.59.51 0 1.02-.2 1.41-.59l7.78-7.78 2.81-2.81c.8-.78.8-2.07 0-2.86zM5.41 20L4 18.59l7.72-7.72 1.47 1.35L5.41 20z\"/>\n",
              "  </svg>\n",
              "      </button>\n",
              "      \n",
              "  <style>\n",
              "    .colab-df-container {\n",
              "      display:flex;\n",
              "      flex-wrap:wrap;\n",
              "      gap: 12px;\n",
              "    }\n",
              "\n",
              "    .colab-df-convert {\n",
              "      background-color: #E8F0FE;\n",
              "      border: none;\n",
              "      border-radius: 50%;\n",
              "      cursor: pointer;\n",
              "      display: none;\n",
              "      fill: #1967D2;\n",
              "      height: 32px;\n",
              "      padding: 0 0 0 0;\n",
              "      width: 32px;\n",
              "    }\n",
              "\n",
              "    .colab-df-convert:hover {\n",
              "      background-color: #E2EBFA;\n",
              "      box-shadow: 0px 1px 2px rgba(60, 64, 67, 0.3), 0px 1px 3px 1px rgba(60, 64, 67, 0.15);\n",
              "      fill: #174EA6;\n",
              "    }\n",
              "\n",
              "    [theme=dark] .colab-df-convert {\n",
              "      background-color: #3B4455;\n",
              "      fill: #D2E3FC;\n",
              "    }\n",
              "\n",
              "    [theme=dark] .colab-df-convert:hover {\n",
              "      background-color: #434B5C;\n",
              "      box-shadow: 0px 1px 3px 1px rgba(0, 0, 0, 0.15);\n",
              "      filter: drop-shadow(0px 1px 2px rgba(0, 0, 0, 0.3));\n",
              "      fill: #FFFFFF;\n",
              "    }\n",
              "  </style>\n",
              "\n",
              "      <script>\n",
              "        const buttonEl =\n",
              "          document.querySelector('#df-88dd6553-e042-4f06-a0af-1d3aeb0dab17 button.colab-df-convert');\n",
              "        buttonEl.style.display =\n",
              "          google.colab.kernel.accessAllowed ? 'block' : 'none';\n",
              "\n",
              "        async function convertToInteractive(key) {\n",
              "          const element = document.querySelector('#df-88dd6553-e042-4f06-a0af-1d3aeb0dab17');\n",
              "          const dataTable =\n",
              "            await google.colab.kernel.invokeFunction('convertToInteractive',\n",
              "                                                     [key], {});\n",
              "          if (!dataTable) return;\n",
              "\n",
              "          const docLinkHtml = 'Like what you see? Visit the ' +\n",
              "            '<a target=\"_blank\" href=https://colab.research.google.com/notebooks/data_table.ipynb>data table notebook</a>'\n",
              "            + ' to learn more about interactive tables.';\n",
              "          element.innerHTML = '';\n",
              "          dataTable['output_type'] = 'display_data';\n",
              "          await google.colab.output.renderOutput(dataTable, element);\n",
              "          const docLink = document.createElement('div');\n",
              "          docLink.innerHTML = docLinkHtml;\n",
              "          element.appendChild(docLink);\n",
              "        }\n",
              "      </script>\n",
              "    </div>\n",
              "  </div>\n",
              "  "
            ]
          },
          "metadata": {},
          "execution_count": 5
        }
      ]
    },
    {
      "cell_type": "markdown",
      "source": [
        "## Gráficos\n",
        "\n",
        "1. Maquinas e Suplementos\n",
        "2. Manejo do solo\n",
        "3. Fertilizantes"
      ],
      "metadata": {
        "id": "ULNtQdiE2xH7"
      }
    },
    {
      "cell_type": "markdown",
      "source": [
        "### Maquinas e Suplementos\n",
        "\n",
        "Objetivo deste gráfico é jogar luz sobre a importância do uso de suplementos agriculas na produção de cana de açúcar\n",
        "\n"
      ],
      "metadata": {
        "id": "07pG8bip3PPb"
      }
    },
    {
      "cell_type": "code",
      "source": [
        "import plotly.express as px\n",
        "data_canada = px.data.gapminder().query(\"country == 'Canada'\")\n",
        "fig = px.bar(data_canada, x='year', y='pop')\n",
        "fig.show()"
      ],
      "metadata": {
        "id": "vv2oEKrZ3mh8",
        "colab": {
          "base_uri": "https://localhost:8080/",
          "height": 542
        },
        "outputId": "d57bead7-7762-42de-c80f-0548c46ce8a4"
      },
      "execution_count": null,
      "outputs": [
        {
          "output_type": "display_data",
          "data": {
            "text/html": [
              "<html>\n",
              "<head><meta charset=\"utf-8\" /></head>\n",
              "<body>\n",
              "    <div>            <script src=\"https://cdnjs.cloudflare.com/ajax/libs/mathjax/2.7.5/MathJax.js?config=TeX-AMS-MML_SVG\"></script><script type=\"text/javascript\">if (window.MathJax) {MathJax.Hub.Config({SVG: {font: \"STIX-Web\"}});}</script>                <script type=\"text/javascript\">window.PlotlyConfig = {MathJaxConfig: 'local'};</script>\n",
              "        <script src=\"https://cdn.plot.ly/plotly-2.8.3.min.js\"></script>                <div id=\"3e89847b-11f0-448b-abbd-a8b51b1fe9e4\" class=\"plotly-graph-div\" style=\"height:525px; width:100%;\"></div>            <script type=\"text/javascript\">                                    window.PLOTLYENV=window.PLOTLYENV || {};                                    if (document.getElementById(\"3e89847b-11f0-448b-abbd-a8b51b1fe9e4\")) {                    Plotly.newPlot(                        \"3e89847b-11f0-448b-abbd-a8b51b1fe9e4\",                        [{\"alignmentgroup\":\"True\",\"hovertemplate\":\"year=%{x}<br>pop=%{y}<extra></extra>\",\"legendgroup\":\"\",\"marker\":{\"color\":\"#636efa\",\"pattern\":{\"shape\":\"\"}},\"name\":\"\",\"offsetgroup\":\"\",\"orientation\":\"v\",\"showlegend\":false,\"textposition\":\"auto\",\"x\":[1952,1957,1962,1967,1972,1977,1982,1987,1992,1997,2002,2007],\"xaxis\":\"x\",\"y\":[14785584,17010154,18985849,20819767,22284500,23796400,25201900,26549700,28523502,30305843,31902268,33390141],\"yaxis\":\"y\",\"type\":\"bar\"}],                        {\"template\":{\"data\":{\"bar\":[{\"error_x\":{\"color\":\"#2a3f5f\"},\"error_y\":{\"color\":\"#2a3f5f\"},\"marker\":{\"line\":{\"color\":\"#E5ECF6\",\"width\":0.5},\"pattern\":{\"fillmode\":\"overlay\",\"size\":10,\"solidity\":0.2}},\"type\":\"bar\"}],\"barpolar\":[{\"marker\":{\"line\":{\"color\":\"#E5ECF6\",\"width\":0.5},\"pattern\":{\"fillmode\":\"overlay\",\"size\":10,\"solidity\":0.2}},\"type\":\"barpolar\"}],\"carpet\":[{\"aaxis\":{\"endlinecolor\":\"#2a3f5f\",\"gridcolor\":\"white\",\"linecolor\":\"white\",\"minorgridcolor\":\"white\",\"startlinecolor\":\"#2a3f5f\"},\"baxis\":{\"endlinecolor\":\"#2a3f5f\",\"gridcolor\":\"white\",\"linecolor\":\"white\",\"minorgridcolor\":\"white\",\"startlinecolor\":\"#2a3f5f\"},\"type\":\"carpet\"}],\"choropleth\":[{\"colorbar\":{\"outlinewidth\":0,\"ticks\":\"\"},\"type\":\"choropleth\"}],\"contour\":[{\"colorbar\":{\"outlinewidth\":0,\"ticks\":\"\"},\"colorscale\":[[0.0,\"#0d0887\"],[0.1111111111111111,\"#46039f\"],[0.2222222222222222,\"#7201a8\"],[0.3333333333333333,\"#9c179e\"],[0.4444444444444444,\"#bd3786\"],[0.5555555555555556,\"#d8576b\"],[0.6666666666666666,\"#ed7953\"],[0.7777777777777778,\"#fb9f3a\"],[0.8888888888888888,\"#fdca26\"],[1.0,\"#f0f921\"]],\"type\":\"contour\"}],\"contourcarpet\":[{\"colorbar\":{\"outlinewidth\":0,\"ticks\":\"\"},\"type\":\"contourcarpet\"}],\"heatmap\":[{\"colorbar\":{\"outlinewidth\":0,\"ticks\":\"\"},\"colorscale\":[[0.0,\"#0d0887\"],[0.1111111111111111,\"#46039f\"],[0.2222222222222222,\"#7201a8\"],[0.3333333333333333,\"#9c179e\"],[0.4444444444444444,\"#bd3786\"],[0.5555555555555556,\"#d8576b\"],[0.6666666666666666,\"#ed7953\"],[0.7777777777777778,\"#fb9f3a\"],[0.8888888888888888,\"#fdca26\"],[1.0,\"#f0f921\"]],\"type\":\"heatmap\"}],\"heatmapgl\":[{\"colorbar\":{\"outlinewidth\":0,\"ticks\":\"\"},\"colorscale\":[[0.0,\"#0d0887\"],[0.1111111111111111,\"#46039f\"],[0.2222222222222222,\"#7201a8\"],[0.3333333333333333,\"#9c179e\"],[0.4444444444444444,\"#bd3786\"],[0.5555555555555556,\"#d8576b\"],[0.6666666666666666,\"#ed7953\"],[0.7777777777777778,\"#fb9f3a\"],[0.8888888888888888,\"#fdca26\"],[1.0,\"#f0f921\"]],\"type\":\"heatmapgl\"}],\"histogram\":[{\"marker\":{\"pattern\":{\"fillmode\":\"overlay\",\"size\":10,\"solidity\":0.2}},\"type\":\"histogram\"}],\"histogram2d\":[{\"colorbar\":{\"outlinewidth\":0,\"ticks\":\"\"},\"colorscale\":[[0.0,\"#0d0887\"],[0.1111111111111111,\"#46039f\"],[0.2222222222222222,\"#7201a8\"],[0.3333333333333333,\"#9c179e\"],[0.4444444444444444,\"#bd3786\"],[0.5555555555555556,\"#d8576b\"],[0.6666666666666666,\"#ed7953\"],[0.7777777777777778,\"#fb9f3a\"],[0.8888888888888888,\"#fdca26\"],[1.0,\"#f0f921\"]],\"type\":\"histogram2d\"}],\"histogram2dcontour\":[{\"colorbar\":{\"outlinewidth\":0,\"ticks\":\"\"},\"colorscale\":[[0.0,\"#0d0887\"],[0.1111111111111111,\"#46039f\"],[0.2222222222222222,\"#7201a8\"],[0.3333333333333333,\"#9c179e\"],[0.4444444444444444,\"#bd3786\"],[0.5555555555555556,\"#d8576b\"],[0.6666666666666666,\"#ed7953\"],[0.7777777777777778,\"#fb9f3a\"],[0.8888888888888888,\"#fdca26\"],[1.0,\"#f0f921\"]],\"type\":\"histogram2dcontour\"}],\"mesh3d\":[{\"colorbar\":{\"outlinewidth\":0,\"ticks\":\"\"},\"type\":\"mesh3d\"}],\"parcoords\":[{\"line\":{\"colorbar\":{\"outlinewidth\":0,\"ticks\":\"\"}},\"type\":\"parcoords\"}],\"pie\":[{\"automargin\":true,\"type\":\"pie\"}],\"scatter\":[{\"marker\":{\"colorbar\":{\"outlinewidth\":0,\"ticks\":\"\"}},\"type\":\"scatter\"}],\"scatter3d\":[{\"line\":{\"colorbar\":{\"outlinewidth\":0,\"ticks\":\"\"}},\"marker\":{\"colorbar\":{\"outlinewidth\":0,\"ticks\":\"\"}},\"type\":\"scatter3d\"}],\"scattercarpet\":[{\"marker\":{\"colorbar\":{\"outlinewidth\":0,\"ticks\":\"\"}},\"type\":\"scattercarpet\"}],\"scattergeo\":[{\"marker\":{\"colorbar\":{\"outlinewidth\":0,\"ticks\":\"\"}},\"type\":\"scattergeo\"}],\"scattergl\":[{\"marker\":{\"colorbar\":{\"outlinewidth\":0,\"ticks\":\"\"}},\"type\":\"scattergl\"}],\"scattermapbox\":[{\"marker\":{\"colorbar\":{\"outlinewidth\":0,\"ticks\":\"\"}},\"type\":\"scattermapbox\"}],\"scatterpolar\":[{\"marker\":{\"colorbar\":{\"outlinewidth\":0,\"ticks\":\"\"}},\"type\":\"scatterpolar\"}],\"scatterpolargl\":[{\"marker\":{\"colorbar\":{\"outlinewidth\":0,\"ticks\":\"\"}},\"type\":\"scatterpolargl\"}],\"scatterternary\":[{\"marker\":{\"colorbar\":{\"outlinewidth\":0,\"ticks\":\"\"}},\"type\":\"scatterternary\"}],\"surface\":[{\"colorbar\":{\"outlinewidth\":0,\"ticks\":\"\"},\"colorscale\":[[0.0,\"#0d0887\"],[0.1111111111111111,\"#46039f\"],[0.2222222222222222,\"#7201a8\"],[0.3333333333333333,\"#9c179e\"],[0.4444444444444444,\"#bd3786\"],[0.5555555555555556,\"#d8576b\"],[0.6666666666666666,\"#ed7953\"],[0.7777777777777778,\"#fb9f3a\"],[0.8888888888888888,\"#fdca26\"],[1.0,\"#f0f921\"]],\"type\":\"surface\"}],\"table\":[{\"cells\":{\"fill\":{\"color\":\"#EBF0F8\"},\"line\":{\"color\":\"white\"}},\"header\":{\"fill\":{\"color\":\"#C8D4E3\"},\"line\":{\"color\":\"white\"}},\"type\":\"table\"}]},\"layout\":{\"annotationdefaults\":{\"arrowcolor\":\"#2a3f5f\",\"arrowhead\":0,\"arrowwidth\":1},\"autotypenumbers\":\"strict\",\"coloraxis\":{\"colorbar\":{\"outlinewidth\":0,\"ticks\":\"\"}},\"colorscale\":{\"diverging\":[[0,\"#8e0152\"],[0.1,\"#c51b7d\"],[0.2,\"#de77ae\"],[0.3,\"#f1b6da\"],[0.4,\"#fde0ef\"],[0.5,\"#f7f7f7\"],[0.6,\"#e6f5d0\"],[0.7,\"#b8e186\"],[0.8,\"#7fbc41\"],[0.9,\"#4d9221\"],[1,\"#276419\"]],\"sequential\":[[0.0,\"#0d0887\"],[0.1111111111111111,\"#46039f\"],[0.2222222222222222,\"#7201a8\"],[0.3333333333333333,\"#9c179e\"],[0.4444444444444444,\"#bd3786\"],[0.5555555555555556,\"#d8576b\"],[0.6666666666666666,\"#ed7953\"],[0.7777777777777778,\"#fb9f3a\"],[0.8888888888888888,\"#fdca26\"],[1.0,\"#f0f921\"]],\"sequentialminus\":[[0.0,\"#0d0887\"],[0.1111111111111111,\"#46039f\"],[0.2222222222222222,\"#7201a8\"],[0.3333333333333333,\"#9c179e\"],[0.4444444444444444,\"#bd3786\"],[0.5555555555555556,\"#d8576b\"],[0.6666666666666666,\"#ed7953\"],[0.7777777777777778,\"#fb9f3a\"],[0.8888888888888888,\"#fdca26\"],[1.0,\"#f0f921\"]]},\"colorway\":[\"#636efa\",\"#EF553B\",\"#00cc96\",\"#ab63fa\",\"#FFA15A\",\"#19d3f3\",\"#FF6692\",\"#B6E880\",\"#FF97FF\",\"#FECB52\"],\"font\":{\"color\":\"#2a3f5f\"},\"geo\":{\"bgcolor\":\"white\",\"lakecolor\":\"white\",\"landcolor\":\"#E5ECF6\",\"showlakes\":true,\"showland\":true,\"subunitcolor\":\"white\"},\"hoverlabel\":{\"align\":\"left\"},\"hovermode\":\"closest\",\"mapbox\":{\"style\":\"light\"},\"paper_bgcolor\":\"white\",\"plot_bgcolor\":\"#E5ECF6\",\"polar\":{\"angularaxis\":{\"gridcolor\":\"white\",\"linecolor\":\"white\",\"ticks\":\"\"},\"bgcolor\":\"#E5ECF6\",\"radialaxis\":{\"gridcolor\":\"white\",\"linecolor\":\"white\",\"ticks\":\"\"}},\"scene\":{\"xaxis\":{\"backgroundcolor\":\"#E5ECF6\",\"gridcolor\":\"white\",\"gridwidth\":2,\"linecolor\":\"white\",\"showbackground\":true,\"ticks\":\"\",\"zerolinecolor\":\"white\"},\"yaxis\":{\"backgroundcolor\":\"#E5ECF6\",\"gridcolor\":\"white\",\"gridwidth\":2,\"linecolor\":\"white\",\"showbackground\":true,\"ticks\":\"\",\"zerolinecolor\":\"white\"},\"zaxis\":{\"backgroundcolor\":\"#E5ECF6\",\"gridcolor\":\"white\",\"gridwidth\":2,\"linecolor\":\"white\",\"showbackground\":true,\"ticks\":\"\",\"zerolinecolor\":\"white\"}},\"shapedefaults\":{\"line\":{\"color\":\"#2a3f5f\"}},\"ternary\":{\"aaxis\":{\"gridcolor\":\"white\",\"linecolor\":\"white\",\"ticks\":\"\"},\"baxis\":{\"gridcolor\":\"white\",\"linecolor\":\"white\",\"ticks\":\"\"},\"bgcolor\":\"#E5ECF6\",\"caxis\":{\"gridcolor\":\"white\",\"linecolor\":\"white\",\"ticks\":\"\"}},\"title\":{\"x\":0.05},\"xaxis\":{\"automargin\":true,\"gridcolor\":\"white\",\"linecolor\":\"white\",\"ticks\":\"\",\"title\":{\"standoff\":15},\"zerolinecolor\":\"white\",\"zerolinewidth\":2},\"yaxis\":{\"automargin\":true,\"gridcolor\":\"white\",\"linecolor\":\"white\",\"ticks\":\"\",\"title\":{\"standoff\":15},\"zerolinecolor\":\"white\",\"zerolinewidth\":2}}},\"xaxis\":{\"anchor\":\"y\",\"domain\":[0.0,1.0],\"title\":{\"text\":\"year\"}},\"yaxis\":{\"anchor\":\"x\",\"domain\":[0.0,1.0],\"title\":{\"text\":\"pop\"}},\"legend\":{\"tracegroupgap\":0},\"margin\":{\"t\":60},\"barmode\":\"relative\"},                        {\"responsive\": true}                    ).then(function(){\n",
              "                            \n",
              "var gd = document.getElementById('3e89847b-11f0-448b-abbd-a8b51b1fe9e4');\n",
              "var x = new MutationObserver(function (mutations, observer) {{\n",
              "        var display = window.getComputedStyle(gd).display;\n",
              "        if (!display || display === 'none') {{\n",
              "            console.log([gd, 'removed!']);\n",
              "            Plotly.purge(gd);\n",
              "            observer.disconnect();\n",
              "        }}\n",
              "}});\n",
              "\n",
              "// Listen for the removal of the full notebook cells\n",
              "var notebookContainer = gd.closest('#notebook-container');\n",
              "if (notebookContainer) {{\n",
              "    x.observe(notebookContainer, {childList: true});\n",
              "}}\n",
              "\n",
              "// Listen for the clearing of the current output cell\n",
              "var outputEl = gd.closest('.output');\n",
              "if (outputEl) {{\n",
              "    x.observe(outputEl, {childList: true});\n",
              "}}\n",
              "\n",
              "                        })                };                            </script>        </div>\n",
              "</body>\n",
              "</html>"
            ]
          },
          "metadata": {}
        }
      ]
    },
    {
      "cell_type": "markdown",
      "source": [
        "### Manejo do solo\n",
        "\n",
        "Objetivo deste gráfico é jogar luz sobre a importância do uso de suplementos agriculas na produção de cana de açúcar\n",
        "\n"
      ],
      "metadata": {
        "id": "h4utRQfP3l6k"
      }
    },
    {
      "cell_type": "code",
      "source": [
        ""
      ],
      "metadata": {
        "id": "21S3TJSV2wVs"
      },
      "execution_count": null,
      "outputs": []
    },
    {
      "cell_type": "markdown",
      "source": [
        "### Fertilizantes\n",
        "\n",
        "Objetivo deste gráfico é jogar luz sobre a importância do uso de suplementos agriculas na produção de cana de açúcar\n",
        "\n"
      ],
      "metadata": {
        "id": "w1UHElBN3xyI"
      }
    },
    {
      "cell_type": "code",
      "source": [
        ""
      ],
      "metadata": {
        "id": "wLp_4-uQ3xyP"
      },
      "execution_count": null,
      "outputs": []
    },
    {
      "cell_type": "markdown",
      "source": [
        "## Dashboard\n",
        "[Como publicar o seu dashboard usando o colab](https://fmarcelneves.medium.com/deploy-r%C3%A1pido-e-tempor%C3%A1rio-de-webapps-diretamente-do-google-colab-com-ngrok-e056b977c48a)"
      ],
      "metadata": {
        "id": "R5uNNZKj339s"
      }
    },
    {
      "cell_type": "markdown",
      "source": [
        "### Disponibilização "
      ],
      "metadata": {
        "id": "lBfEYeK0opL4"
      }
    }
  ]
}