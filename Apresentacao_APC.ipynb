{
  "nbformat": 4,
  "nbformat_minor": 0,
  "metadata": {
    "colab": {
      "name": "Apresentacao_APC.ipynb",
      "provenance": [],
      "collapsed_sections": [
        "eozy1LUP2m8C",
        "h4utRQfP3l6k",
        "w1UHElBN3xyI"
      ],
      "include_colab_link": true
    },
    "kernelspec": {
      "name": "python3",
      "display_name": "Python 3"
    },
    "language_info": {
      "name": "python"
    }
  },
  "cells": [
    {
      "cell_type": "markdown",
      "metadata": {
        "id": "view-in-github",
        "colab_type": "text"
      },
      "source": [
        "<a href=\"https://colab.research.google.com/github/paulomedrado/APC_/blob/main/Apresentacao_APC.ipynb\" target=\"_parent\"><img src=\"https://colab.research.google.com/assets/colab-badge.svg\" alt=\"Open In Colab\"/></a>"
      ]
    },
    {
      "cell_type": "markdown",
      "source": [
        "# **Grupo A - Tráfego aéreo no Brasil**"
      ],
      "metadata": {
        "id": "u9uCmN31y3xb"
      }
    },
    {
      "cell_type": "markdown",
      "source": [
        "## **Membros**\n",
        "\n",
        "|Matrícula|Nome Completo|\n",
        "|:---|:---|\n",
        "|221007813|André Emanuel|\n",
        "|221007949|Camile Oliveira|\n",
        "|221038776|André Luís|\n",
        "|221008070|Guilherme|\n",
        "|221007887|Bernardo Barros|\n",
        "|???|Ana Luísa|\n",
        "|221008150|João|\n",
        "|221035068|Paulo Renato|\n",
        "|211062277|Duarte|\n",
        "|221007653|Ricardo|"
      ],
      "metadata": {
        "id": "uXtoyLG4zBS0"
      }
    },
    {
      "cell_type": "markdown",
      "source": [
        "## **Objetivo**\n",
        "Analisar e compreender o comportamento de voôs no Brasil durante os anos de 2013, 2014 e 2015, além de oferecer uma representação gráfica sobre os dados explorados."
      ],
      "metadata": {
        "id": "W4qE8DvGzq9j"
      }
    },
    {
      "cell_type": "markdown",
      "source": [
        "## **Bases de Dados**\n",
        "|Nome|Descrição|\n",
        "|:---|:---|\n",
        "|[DataSet 1](https://drive.google.com/file/d/1v1r_RmQB8S9bYPtA3Y-drIyi35PxZiPM/view?usp=sharing)|Dados sobre os vôos|\n",
        "|[DataSet 2](https://drive.google.com/file/d/1Juunu_su2nTI0YRv1l9ntyo2Tg4RCRFr/view?usp=sharing)|brasil_estados.json|"
      ],
      "metadata": {
        "id": "6TJDVxjE0P5k"
      }
    },
    {
      "cell_type": "markdown",
      "source": [
        ""
      ],
      "metadata": {
        "id": "WWHJGGLk73ic"
      }
    },
    {
      "cell_type": "markdown",
      "source": [
        "## Funções Úteis"
      ],
      "metadata": {
        "id": "ZSjQytb62Jg7"
      }
    },
    {
      "cell_type": "markdown",
      "source": [
        "##Filtrar linhas"
      ],
      "metadata": {
        "id": "Cg0BAXesFcIM"
      }
    },
    {
      "cell_type": "markdown",
      "source": [
        "\n",
        "\n",
        "---\n",
        "\n"
      ],
      "metadata": {
        "id": "-JEM6eDw8pJO"
      }
    },
    {
      "cell_type": "code",
      "source": [
        "import pandas as pd\n",
        "import math\n",
        "from collections  import defaultdict##Filtrar Linhas\n",
        "\n",
        "def filtrar_linha(tabela: pd.DataFrame, coluna: str, filtro:list):\n",
        "    tabela = tabela.to_dict()\n",
        "    linhas = tabela[coluna]\n",
        "    linhas_a_apagar=[]\n",
        "\n",
        "    for index in linhas:\n",
        "        valor = linhas[index]\n",
        "        if not str(valor) in filtro:\n",
        "            linhas_a_apagar.append(index)\n",
        "    \n",
        "    for linha in linhas_a_apagar:\n",
        "        for cabecalho in tabela:\n",
        "            tabela[cabecalho].pop(linha)\n",
        "    \n",
        "    return pd.DataFrame(tabela)\n",
        "\n"
      ],
      "metadata": {
        "id": "TmxC_SQvzqMU"
      },
      "execution_count": null,
      "outputs": []
    },
    {
      "cell_type": "markdown",
      "source": [
        "##Fatiar"
      ],
      "metadata": {
        "id": "CVU4yOkB-LKK"
      }
    },
    {
      "cell_type": "code",
      "source": [
        "def fatiar(tabela: pd.DataFrame, cabeçalho_selecionado: str, alvo: int) -> pd.DataFrame:\n",
        "    tabela = tabela.to_dict()\n",
        "    fatiador = []\n",
        "    linha = tabela[cabeçalho_selecionado]\n",
        "    for id in linha:\n",
        "        if linha[id] != alvo:\n",
        "            fatiador.append(id)\n",
        "    for linha in fatiador:\n",
        "        for corte in tabela:\n",
        "            tabela[corte].pop(linha)\n",
        "    return pd.DataFrame(tabela)"
      ],
      "metadata": {
        "id": "biwl9yMA-NXI"
      },
      "execution_count": null,
      "outputs": []
    },
    {
      "cell_type": "markdown",
      "source": [
        "##Máximo"
      ],
      "metadata": {
        "id": "fK9GlFhl-WTo"
      }
    },
    {
      "cell_type": "code",
      "source": [
        "def maximo(tabela: pd.DataFrame, cabecalho_max: str) -> float:\n",
        "    \"\"\"Calcula o valor máximo de uma coluna\n",
        "    Args:\n",
        "        tabela (pd.DataFrame): Tabela a ser operada\n",
        "        cabecalho_max (str): coluna a ser operada\n",
        "    Returns:\n",
        "        float: Valor máximo dentro da coluna\n",
        "    \"\"\"\n",
        "    linhas=tabela.values.tolist()\n",
        "    cabecalhos=tabela.columns.to_list()\n",
        "    maximo = 0\n",
        "    for linha in linhas:\n",
        "        atual=linha[cabecalhos.index(cabecalho_max)]\n",
        "        if atual>maximo:\n",
        "            maximo=atual\n",
        "    return maximo"
      ],
      "metadata": {
        "id": "ReXVlsIJ-ZfW"
      },
      "execution_count": null,
      "outputs": []
    },
    {
      "cell_type": "markdown",
      "source": [
        "##Soma por categoria"
      ],
      "metadata": {
        "id": "azvRcF2Z-jJb"
      }
    },
    {
      "cell_type": "code",
      "source": [
        "def soma_por_categoria(tabela: pd.DataFrame, cabecalho_categoria: str, cabecalho_a_somar: str) -> pd.DataFrame:\n",
        "    \"\"\"Soma os valores de uma coluna para cada valor diferente de outra coluna\n",
        "    Args:\n",
        "        tabela (pd.DataFrame): Tabela a ser operada\n",
        "        cabecalho_categoria (str): Cabeçalho onde estão as categorias\n",
        "        cabecalho_a_somar (str): Cabeçalho a ser calculada a soma\n",
        "    Returns:\n",
        "        pd.DataFrame: Dataframe com os dados calculados\n",
        "    \"\"\"\n",
        "    tabela = tabela.to_dict()\n",
        "\n",
        "    tabela_resultado={cabecalho_categoria:{},cabecalho_a_somar:{}}\n",
        "    coluna_a_somar = tabela[cabecalho_a_somar]\n",
        "    coluna_categoria = tabela[cabecalho_categoria]\n",
        "    soma={}\n",
        "    \n",
        "    for index in coluna_categoria:\n",
        "        valor_linha = coluna_categoria[index]\n",
        "        if valor_linha in soma:\n",
        "            soma[valor_linha]+=coluna_a_somar[index]\n",
        "        else:\n",
        "            soma[valor_linha]=coluna_a_somar[index]\n",
        "\n",
        "    linhas=len(soma)\n",
        "    i=1\n",
        "    for categoria in soma:\n",
        "        tabela_resultado[cabecalho_categoria][i] = categoria\n",
        "        tabela_resultado[cabecalho_a_somar][i] = soma[categoria]\n",
        "        i+=1\n",
        "\n",
        "    return pd.DataFrame(tabela_resultado)"
      ],
      "metadata": {
        "id": "Ls0v16mL-ktN"
      },
      "execution_count": null,
      "outputs": []
    },
    {
      "cell_type": "markdown",
      "source": [
        "##Filtrar"
      ],
      "metadata": {
        "id": "JsqTv1Ut-zNy"
      }
    },
    {
      "cell_type": "code",
      "source": [
        "def filtrar(tabela: pd.DataFrame, filtros: list) -> pd.DataFrame: \n",
        "    \"\"\"Função feita para filtrar colunas em Dataframes\n",
        "    Args:\n",
        "        tabela (pd.DataFrame): A tabela que será filtrada\n",
        "        filtros (list): Lista de colunas que serão mantidas\n",
        "    Returns:\n",
        "        pd.DataFrame: Dataframe com as colunas filtradas\n",
        "    \"\"\"\n",
        "\n",
        "    linhas = tabela.values.tolist()\n",
        "    cabecalhos = tabela.columns.to_list()\n",
        "    indexes=[]\n",
        "    resultado=[]\n",
        "\n",
        "    cabecalhos_filtrados=[]\n",
        "    for cabecalho in cabecalhos:\n",
        "        if cabecalho in filtros:\n",
        "            indexes.append(cabecalhos.index(cabecalho))\n",
        "            cabecalhos_filtrados.append(cabecalho)\n",
        "    \n",
        "    linha_filtrada=[]\n",
        "    for linha in linhas:\n",
        "        linha_filtrada=[]\n",
        "        for index in indexes:\n",
        "            linha_filtrada.append(linha[index])\n",
        "        resultado.append(linha_filtrada)\n",
        "\n",
        "    return pd.DataFrame(resultado, columns=cabecalhos_filtrados)"
      ],
      "metadata": {
        "id": "1e8RL6v9-1uf"
      },
      "execution_count": null,
      "outputs": []
    },
    {
      "cell_type": "markdown",
      "source": [
        "##Retirar nulos"
      ],
      "metadata": {
        "id": "FIzsEvkg-9sY"
      }
    },
    {
      "cell_type": "code",
      "source": [
        "def retirar_nulos(tabela: pd.DataFrame) -> pd.DataFrame:\n",
        "    \"\"\"Retira todas as linhas que contenham qualquer valor NaN de uma tabela\n",
        "    Args:\n",
        "        tabela (pd.DataFrame): A tabela a ser operada\n",
        "    Returns:\n",
        "        pd.DataFrame: Uma tabela com os valores nulos retirados\n",
        "    \"\"\"\n",
        "\n",
        "\n",
        "    linhas = tabela.values.tolist()\n",
        "    cabecalhos = tabela.columns.to_list()\n",
        "    linhas_resultado=[]\n",
        "    invalido = False\n",
        "\n",
        "    for linha in linhas:\n",
        "        invalido = False\n",
        "        for coluna in linha:\n",
        "            if isinstance(coluna, float):\n",
        "                if math.isnan(coluna):\n",
        "                    invalido = True\n",
        "                    break\n",
        "        if not invalido:\n",
        "            linhas_resultado.append(linha)\n",
        "    \n",
        "    return pd.DataFrame(linhas_resultado, columns=cabecalhos)"
      ],
      "metadata": {
        "id": "0UnH1sOt_ACZ"
      },
      "execution_count": null,
      "outputs": []
    },
    {
      "cell_type": "markdown",
      "source": [
        "### Base 2"
      ],
      "metadata": {
        "id": "eozy1LUP2m8C"
      }
    },
    {
      "cell_type": "code",
      "source": [
        "import pandas as pd"
      ],
      "metadata": {
        "id": "632uCtzD2m8X"
      },
      "execution_count": null,
      "outputs": []
    },
    {
      "cell_type": "code",
      "source": [
        "data={'Name':['Karan','Rohit','Sahil','Aryan'],'Age':[23,22,21,24]}\n",
        "\n",
        "df=pd.DataFrame(data,index=['No.1','No.2','No.3','No.4'])\n",
        "\n",
        "df.head(3)"
      ],
      "metadata": {
        "colab": {
          "base_uri": "https://localhost:8080/",
          "height": 175
        },
        "outputId": "a4135286-31d0-41ef-8505-fcb028862f2f",
        "id": "7vtjGr8k2m8Y"
      },
      "execution_count": null,
      "outputs": [
        {
          "output_type": "execute_result",
          "data": {
            "text/plain": [
              "       Name  Age\n",
              "No.1  Karan   23\n",
              "No.2  Rohit   22\n",
              "No.3  Sahil   21\n",
              "No.4  Aryan   24"
            ],
            "text/html": [
              "\n",
              "  <div id=\"df-88dd6553-e042-4f06-a0af-1d3aeb0dab17\">\n",
              "    <div class=\"colab-df-container\">\n",
              "      <div>\n",
              "<style scoped>\n",
              "    .dataframe tbody tr th:only-of-type {\n",
              "        vertical-align: middle;\n",
              "    }\n",
              "\n",
              "    .dataframe tbody tr th {\n",
              "        vertical-align: top;\n",
              "    }\n",
              "\n",
              "    .dataframe thead th {\n",
              "        text-align: right;\n",
              "    }\n",
              "</style>\n",
              "<table border=\"1\" class=\"dataframe\">\n",
              "  <thead>\n",
              "    <tr style=\"text-align: right;\">\n",
              "      <th></th>\n",
              "      <th>Name</th>\n",
              "      <th>Age</th>\n",
              "    </tr>\n",
              "  </thead>\n",
              "  <tbody>\n",
              "    <tr>\n",
              "      <th>No.1</th>\n",
              "      <td>Karan</td>\n",
              "      <td>23</td>\n",
              "    </tr>\n",
              "    <tr>\n",
              "      <th>No.2</th>\n",
              "      <td>Rohit</td>\n",
              "      <td>22</td>\n",
              "    </tr>\n",
              "    <tr>\n",
              "      <th>No.3</th>\n",
              "      <td>Sahil</td>\n",
              "      <td>21</td>\n",
              "    </tr>\n",
              "    <tr>\n",
              "      <th>No.4</th>\n",
              "      <td>Aryan</td>\n",
              "      <td>24</td>\n",
              "    </tr>\n",
              "  </tbody>\n",
              "</table>\n",
              "</div>\n",
              "      <button class=\"colab-df-convert\" onclick=\"convertToInteractive('df-88dd6553-e042-4f06-a0af-1d3aeb0dab17')\"\n",
              "              title=\"Convert this dataframe to an interactive table.\"\n",
              "              style=\"display:none;\">\n",
              "        \n",
              "  <svg xmlns=\"http://www.w3.org/2000/svg\" height=\"24px\"viewBox=\"0 0 24 24\"\n",
              "       width=\"24px\">\n",
              "    <path d=\"M0 0h24v24H0V0z\" fill=\"none\"/>\n",
              "    <path d=\"M18.56 5.44l.94 2.06.94-2.06 2.06-.94-2.06-.94-.94-2.06-.94 2.06-2.06.94zm-11 1L8.5 8.5l.94-2.06 2.06-.94-2.06-.94L8.5 2.5l-.94 2.06-2.06.94zm10 10l.94 2.06.94-2.06 2.06-.94-2.06-.94-.94-2.06-.94 2.06-2.06.94z\"/><path d=\"M17.41 7.96l-1.37-1.37c-.4-.4-.92-.59-1.43-.59-.52 0-1.04.2-1.43.59L10.3 9.45l-7.72 7.72c-.78.78-.78 2.05 0 2.83L4 21.41c.39.39.9.59 1.41.59.51 0 1.02-.2 1.41-.59l7.78-7.78 2.81-2.81c.8-.78.8-2.07 0-2.86zM5.41 20L4 18.59l7.72-7.72 1.47 1.35L5.41 20z\"/>\n",
              "  </svg>\n",
              "      </button>\n",
              "      \n",
              "  <style>\n",
              "    .colab-df-container {\n",
              "      display:flex;\n",
              "      flex-wrap:wrap;\n",
              "      gap: 12px;\n",
              "    }\n",
              "\n",
              "    .colab-df-convert {\n",
              "      background-color: #E8F0FE;\n",
              "      border: none;\n",
              "      border-radius: 50%;\n",
              "      cursor: pointer;\n",
              "      display: none;\n",
              "      fill: #1967D2;\n",
              "      height: 32px;\n",
              "      padding: 0 0 0 0;\n",
              "      width: 32px;\n",
              "    }\n",
              "\n",
              "    .colab-df-convert:hover {\n",
              "      background-color: #E2EBFA;\n",
              "      box-shadow: 0px 1px 2px rgba(60, 64, 67, 0.3), 0px 1px 3px 1px rgba(60, 64, 67, 0.15);\n",
              "      fill: #174EA6;\n",
              "    }\n",
              "\n",
              "    [theme=dark] .colab-df-convert {\n",
              "      background-color: #3B4455;\n",
              "      fill: #D2E3FC;\n",
              "    }\n",
              "\n",
              "    [theme=dark] .colab-df-convert:hover {\n",
              "      background-color: #434B5C;\n",
              "      box-shadow: 0px 1px 3px 1px rgba(0, 0, 0, 0.15);\n",
              "      filter: drop-shadow(0px 1px 2px rgba(0, 0, 0, 0.3));\n",
              "      fill: #FFFFFF;\n",
              "    }\n",
              "  </style>\n",
              "\n",
              "      <script>\n",
              "        const buttonEl =\n",
              "          document.querySelector('#df-88dd6553-e042-4f06-a0af-1d3aeb0dab17 button.colab-df-convert');\n",
              "        buttonEl.style.display =\n",
              "          google.colab.kernel.accessAllowed ? 'block' : 'none';\n",
              "\n",
              "        async function convertToInteractive(key) {\n",
              "          const element = document.querySelector('#df-88dd6553-e042-4f06-a0af-1d3aeb0dab17');\n",
              "          const dataTable =\n",
              "            await google.colab.kernel.invokeFunction('convertToInteractive',\n",
              "                                                     [key], {});\n",
              "          if (!dataTable) return;\n",
              "\n",
              "          const docLinkHtml = 'Like what you see? Visit the ' +\n",
              "            '<a target=\"_blank\" href=https://colab.research.google.com/notebooks/data_table.ipynb>data table notebook</a>'\n",
              "            + ' to learn more about interactive tables.';\n",
              "          element.innerHTML = '';\n",
              "          dataTable['output_type'] = 'display_data';\n",
              "          await google.colab.output.renderOutput(dataTable, element);\n",
              "          const docLink = document.createElement('div');\n",
              "          docLink.innerHTML = docLinkHtml;\n",
              "          element.appendChild(docLink);\n",
              "        }\n",
              "      </script>\n",
              "    </div>\n",
              "  </div>\n",
              "  "
            ]
          },
          "metadata": {},
          "execution_count": 5
        }
      ]
    },
    {
      "cell_type": "markdown",
      "source": [
        "## **Gráficos**\n",
        "\n",
        "1. Mapa dos estados\n",
        "2. Quantidade de vôos\n",
        "3. Preferência de linhas aéreas\n",
        "4. Países\n",
        "5. Tipos de carga"
      ],
      "metadata": {
        "id": "ULNtQdiE2xH7"
      }
    },
    {
      "cell_type": "markdown",
      "source": [
        "### Mapa dos estados\n",
        "\n",
        "Objetivo deste mapa é mostrar quais foram os estados de destino mais famosos durante o período escolhido, sendo possível notar diferenças socioeconômicas entre outros detalhes por estado\n",
        "\n"
      ],
      "metadata": {
        "id": "07pG8bip3PPb"
      }
    },
    {
      "cell_type": "code",
      "source": [
        "import pandas as pd\n",
        "import plotly.express as  px\n",
        "import json\n",
        "import tabela_utils\n",
        "from timeit import default_timer as timer\n",
        "\n",
        "\n",
        "print('Lendo geometria...')\n",
        "estados_brasileiros = json.load(open('Dashboard-Oficial/data/brasil_estados.json'))\n",
        "\n",
        "print('Lendo dados...')\n",
        "voos = pd.read_csv('Dashboard-Oficial\\data\\ANAC20XX-13-14-15.csv', sep=';', encoding='latin')\n",
        "\n",
        "print('Filtrando colunas...')\n",
        "voos = tabela_utils.filtrar(voos,['AEROPORTO DE DESTINO (UF)','DECOLAGENS'])\n",
        "\n",
        "print('Retirando valores nulos...')\n",
        "voos = tabela_utils.retirar_nulos(voos)\n",
        "\n",
        "print('Somando por categoria...')\n",
        "voos = tabela_utils.soma_por_categoria(voos, 'AEROPORTO DE DESTINO (UF)', 'DECOLAGENS')\n",
        "\n",
        "print('Calculando valor máximo...')\n",
        "maximo_decolagens = tabela_utils.maximo(voos, 'DECOLAGENS')\n",
        "\n",
        "print('Produzindo mapa...')\n",
        "mapa = px.choropleth(voos,\n",
        "                    template='plotly_dark',\n",
        "                    geojson=estados_brasileiros, \n",
        "                    locations='AEROPORTO DE DESTINO (UF)', \n",
        "                    color='DECOLAGENS', \n",
        "                    range_color=(0,maximo_decolagens/4), \n",
        "                    hover_data =['AEROPORTO DE DESTINO (UF)'], \n",
        "                    scope='south america',\n",
        "                    color_continuous_scale='purp'\n",
        "                    )\n",
        "\n",
        "print('Mostrando mapa...')\n",
        "mapa.show()"
      ],
      "metadata": {
        "id": "vv2oEKrZ3mh8",
        "colab": {
          "base_uri": "https://localhost:8080/",
          "height": 542
        },
        "outputId": "d57bead7-7762-42de-c80f-0548c46ce8a4"
      },
      "execution_count": null,
      "outputs": [
        {
          "output_type": "display_data",
          "data": {
            "text/html": [
              "<html>\n",
              "<head><meta charset=\"utf-8\" /></head>\n",
              "<body>\n",
              "    <div>            <script src=\"https://cdnjs.cloudflare.com/ajax/libs/mathjax/2.7.5/MathJax.js?config=TeX-AMS-MML_SVG\"></script><script type=\"text/javascript\">if (window.MathJax) {MathJax.Hub.Config({SVG: {font: \"STIX-Web\"}});}</script>                <script type=\"text/javascript\">window.PlotlyConfig = {MathJaxConfig: 'local'};</script>\n",
              "        <script src=\"https://cdn.plot.ly/plotly-2.8.3.min.js\"></script>                <div id=\"3e89847b-11f0-448b-abbd-a8b51b1fe9e4\" class=\"plotly-graph-div\" style=\"height:525px; width:100%;\"></div>            <script type=\"text/javascript\">                                    window.PLOTLYENV=window.PLOTLYENV || {};                                    if (document.getElementById(\"3e89847b-11f0-448b-abbd-a8b51b1fe9e4\")) {                    Plotly.newPlot(                        \"3e89847b-11f0-448b-abbd-a8b51b1fe9e4\",                        [{\"alignmentgroup\":\"True\",\"hovertemplate\":\"year=%{x}<br>pop=%{y}<extra></extra>\",\"legendgroup\":\"\",\"marker\":{\"color\":\"#636efa\",\"pattern\":{\"shape\":\"\"}},\"name\":\"\",\"offsetgroup\":\"\",\"orientation\":\"v\",\"showlegend\":false,\"textposition\":\"auto\",\"x\":[1952,1957,1962,1967,1972,1977,1982,1987,1992,1997,2002,2007],\"xaxis\":\"x\",\"y\":[14785584,17010154,18985849,20819767,22284500,23796400,25201900,26549700,28523502,30305843,31902268,33390141],\"yaxis\":\"y\",\"type\":\"bar\"}],                        {\"template\":{\"data\":{\"bar\":[{\"error_x\":{\"color\":\"#2a3f5f\"},\"error_y\":{\"color\":\"#2a3f5f\"},\"marker\":{\"line\":{\"color\":\"#E5ECF6\",\"width\":0.5},\"pattern\":{\"fillmode\":\"overlay\",\"size\":10,\"solidity\":0.2}},\"type\":\"bar\"}],\"barpolar\":[{\"marker\":{\"line\":{\"color\":\"#E5ECF6\",\"width\":0.5},\"pattern\":{\"fillmode\":\"overlay\",\"size\":10,\"solidity\":0.2}},\"type\":\"barpolar\"}],\"carpet\":[{\"aaxis\":{\"endlinecolor\":\"#2a3f5f\",\"gridcolor\":\"white\",\"linecolor\":\"white\",\"minorgridcolor\":\"white\",\"startlinecolor\":\"#2a3f5f\"},\"baxis\":{\"endlinecolor\":\"#2a3f5f\",\"gridcolor\":\"white\",\"linecolor\":\"white\",\"minorgridcolor\":\"white\",\"startlinecolor\":\"#2a3f5f\"},\"type\":\"carpet\"}],\"choropleth\":[{\"colorbar\":{\"outlinewidth\":0,\"ticks\":\"\"},\"type\":\"choropleth\"}],\"contour\":[{\"colorbar\":{\"outlinewidth\":0,\"ticks\":\"\"},\"colorscale\":[[0.0,\"#0d0887\"],[0.1111111111111111,\"#46039f\"],[0.2222222222222222,\"#7201a8\"],[0.3333333333333333,\"#9c179e\"],[0.4444444444444444,\"#bd3786\"],[0.5555555555555556,\"#d8576b\"],[0.6666666666666666,\"#ed7953\"],[0.7777777777777778,\"#fb9f3a\"],[0.8888888888888888,\"#fdca26\"],[1.0,\"#f0f921\"]],\"type\":\"contour\"}],\"contourcarpet\":[{\"colorbar\":{\"outlinewidth\":0,\"ticks\":\"\"},\"type\":\"contourcarpet\"}],\"heatmap\":[{\"colorbar\":{\"outlinewidth\":0,\"ticks\":\"\"},\"colorscale\":[[0.0,\"#0d0887\"],[0.1111111111111111,\"#46039f\"],[0.2222222222222222,\"#7201a8\"],[0.3333333333333333,\"#9c179e\"],[0.4444444444444444,\"#bd3786\"],[0.5555555555555556,\"#d8576b\"],[0.6666666666666666,\"#ed7953\"],[0.7777777777777778,\"#fb9f3a\"],[0.8888888888888888,\"#fdca26\"],[1.0,\"#f0f921\"]],\"type\":\"heatmap\"}],\"heatmapgl\":[{\"colorbar\":{\"outlinewidth\":0,\"ticks\":\"\"},\"colorscale\":[[0.0,\"#0d0887\"],[0.1111111111111111,\"#46039f\"],[0.2222222222222222,\"#7201a8\"],[0.3333333333333333,\"#9c179e\"],[0.4444444444444444,\"#bd3786\"],[0.5555555555555556,\"#d8576b\"],[0.6666666666666666,\"#ed7953\"],[0.7777777777777778,\"#fb9f3a\"],[0.8888888888888888,\"#fdca26\"],[1.0,\"#f0f921\"]],\"type\":\"heatmapgl\"}],\"histogram\":[{\"marker\":{\"pattern\":{\"fillmode\":\"overlay\",\"size\":10,\"solidity\":0.2}},\"type\":\"histogram\"}],\"histogram2d\":[{\"colorbar\":{\"outlinewidth\":0,\"ticks\":\"\"},\"colorscale\":[[0.0,\"#0d0887\"],[0.1111111111111111,\"#46039f\"],[0.2222222222222222,\"#7201a8\"],[0.3333333333333333,\"#9c179e\"],[0.4444444444444444,\"#bd3786\"],[0.5555555555555556,\"#d8576b\"],[0.6666666666666666,\"#ed7953\"],[0.7777777777777778,\"#fb9f3a\"],[0.8888888888888888,\"#fdca26\"],[1.0,\"#f0f921\"]],\"type\":\"histogram2d\"}],\"histogram2dcontour\":[{\"colorbar\":{\"outlinewidth\":0,\"ticks\":\"\"},\"colorscale\":[[0.0,\"#0d0887\"],[0.1111111111111111,\"#46039f\"],[0.2222222222222222,\"#7201a8\"],[0.3333333333333333,\"#9c179e\"],[0.4444444444444444,\"#bd3786\"],[0.5555555555555556,\"#d8576b\"],[0.6666666666666666,\"#ed7953\"],[0.7777777777777778,\"#fb9f3a\"],[0.8888888888888888,\"#fdca26\"],[1.0,\"#f0f921\"]],\"type\":\"histogram2dcontour\"}],\"mesh3d\":[{\"colorbar\":{\"outlinewidth\":0,\"ticks\":\"\"},\"type\":\"mesh3d\"}],\"parcoords\":[{\"line\":{\"colorbar\":{\"outlinewidth\":0,\"ticks\":\"\"}},\"type\":\"parcoords\"}],\"pie\":[{\"automargin\":true,\"type\":\"pie\"}],\"scatter\":[{\"marker\":{\"colorbar\":{\"outlinewidth\":0,\"ticks\":\"\"}},\"type\":\"scatter\"}],\"scatter3d\":[{\"line\":{\"colorbar\":{\"outlinewidth\":0,\"ticks\":\"\"}},\"marker\":{\"colorbar\":{\"outlinewidth\":0,\"ticks\":\"\"}},\"type\":\"scatter3d\"}],\"scattercarpet\":[{\"marker\":{\"colorbar\":{\"outlinewidth\":0,\"ticks\":\"\"}},\"type\":\"scattercarpet\"}],\"scattergeo\":[{\"marker\":{\"colorbar\":{\"outlinewidth\":0,\"ticks\":\"\"}},\"type\":\"scattergeo\"}],\"scattergl\":[{\"marker\":{\"colorbar\":{\"outlinewidth\":0,\"ticks\":\"\"}},\"type\":\"scattergl\"}],\"scattermapbox\":[{\"marker\":{\"colorbar\":{\"outlinewidth\":0,\"ticks\":\"\"}},\"type\":\"scattermapbox\"}],\"scatterpolar\":[{\"marker\":{\"colorbar\":{\"outlinewidth\":0,\"ticks\":\"\"}},\"type\":\"scatterpolar\"}],\"scatterpolargl\":[{\"marker\":{\"colorbar\":{\"outlinewidth\":0,\"ticks\":\"\"}},\"type\":\"scatterpolargl\"}],\"scatterternary\":[{\"marker\":{\"colorbar\":{\"outlinewidth\":0,\"ticks\":\"\"}},\"type\":\"scatterternary\"}],\"surface\":[{\"colorbar\":{\"outlinewidth\":0,\"ticks\":\"\"},\"colorscale\":[[0.0,\"#0d0887\"],[0.1111111111111111,\"#46039f\"],[0.2222222222222222,\"#7201a8\"],[0.3333333333333333,\"#9c179e\"],[0.4444444444444444,\"#bd3786\"],[0.5555555555555556,\"#d8576b\"],[0.6666666666666666,\"#ed7953\"],[0.7777777777777778,\"#fb9f3a\"],[0.8888888888888888,\"#fdca26\"],[1.0,\"#f0f921\"]],\"type\":\"surface\"}],\"table\":[{\"cells\":{\"fill\":{\"color\":\"#EBF0F8\"},\"line\":{\"color\":\"white\"}},\"header\":{\"fill\":{\"color\":\"#C8D4E3\"},\"line\":{\"color\":\"white\"}},\"type\":\"table\"}]},\"layout\":{\"annotationdefaults\":{\"arrowcolor\":\"#2a3f5f\",\"arrowhead\":0,\"arrowwidth\":1},\"autotypenumbers\":\"strict\",\"coloraxis\":{\"colorbar\":{\"outlinewidth\":0,\"ticks\":\"\"}},\"colorscale\":{\"diverging\":[[0,\"#8e0152\"],[0.1,\"#c51b7d\"],[0.2,\"#de77ae\"],[0.3,\"#f1b6da\"],[0.4,\"#fde0ef\"],[0.5,\"#f7f7f7\"],[0.6,\"#e6f5d0\"],[0.7,\"#b8e186\"],[0.8,\"#7fbc41\"],[0.9,\"#4d9221\"],[1,\"#276419\"]],\"sequential\":[[0.0,\"#0d0887\"],[0.1111111111111111,\"#46039f\"],[0.2222222222222222,\"#7201a8\"],[0.3333333333333333,\"#9c179e\"],[0.4444444444444444,\"#bd3786\"],[0.5555555555555556,\"#d8576b\"],[0.6666666666666666,\"#ed7953\"],[0.7777777777777778,\"#fb9f3a\"],[0.8888888888888888,\"#fdca26\"],[1.0,\"#f0f921\"]],\"sequentialminus\":[[0.0,\"#0d0887\"],[0.1111111111111111,\"#46039f\"],[0.2222222222222222,\"#7201a8\"],[0.3333333333333333,\"#9c179e\"],[0.4444444444444444,\"#bd3786\"],[0.5555555555555556,\"#d8576b\"],[0.6666666666666666,\"#ed7953\"],[0.7777777777777778,\"#fb9f3a\"],[0.8888888888888888,\"#fdca26\"],[1.0,\"#f0f921\"]]},\"colorway\":[\"#636efa\",\"#EF553B\",\"#00cc96\",\"#ab63fa\",\"#FFA15A\",\"#19d3f3\",\"#FF6692\",\"#B6E880\",\"#FF97FF\",\"#FECB52\"],\"font\":{\"color\":\"#2a3f5f\"},\"geo\":{\"bgcolor\":\"white\",\"lakecolor\":\"white\",\"landcolor\":\"#E5ECF6\",\"showlakes\":true,\"showland\":true,\"subunitcolor\":\"white\"},\"hoverlabel\":{\"align\":\"left\"},\"hovermode\":\"closest\",\"mapbox\":{\"style\":\"light\"},\"paper_bgcolor\":\"white\",\"plot_bgcolor\":\"#E5ECF6\",\"polar\":{\"angularaxis\":{\"gridcolor\":\"white\",\"linecolor\":\"white\",\"ticks\":\"\"},\"bgcolor\":\"#E5ECF6\",\"radialaxis\":{\"gridcolor\":\"white\",\"linecolor\":\"white\",\"ticks\":\"\"}},\"scene\":{\"xaxis\":{\"backgroundcolor\":\"#E5ECF6\",\"gridcolor\":\"white\",\"gridwidth\":2,\"linecolor\":\"white\",\"showbackground\":true,\"ticks\":\"\",\"zerolinecolor\":\"white\"},\"yaxis\":{\"backgroundcolor\":\"#E5ECF6\",\"gridcolor\":\"white\",\"gridwidth\":2,\"linecolor\":\"white\",\"showbackground\":true,\"ticks\":\"\",\"zerolinecolor\":\"white\"},\"zaxis\":{\"backgroundcolor\":\"#E5ECF6\",\"gridcolor\":\"white\",\"gridwidth\":2,\"linecolor\":\"white\",\"showbackground\":true,\"ticks\":\"\",\"zerolinecolor\":\"white\"}},\"shapedefaults\":{\"line\":{\"color\":\"#2a3f5f\"}},\"ternary\":{\"aaxis\":{\"gridcolor\":\"white\",\"linecolor\":\"white\",\"ticks\":\"\"},\"baxis\":{\"gridcolor\":\"white\",\"linecolor\":\"white\",\"ticks\":\"\"},\"bgcolor\":\"#E5ECF6\",\"caxis\":{\"gridcolor\":\"white\",\"linecolor\":\"white\",\"ticks\":\"\"}},\"title\":{\"x\":0.05},\"xaxis\":{\"automargin\":true,\"gridcolor\":\"white\",\"linecolor\":\"white\",\"ticks\":\"\",\"title\":{\"standoff\":15},\"zerolinecolor\":\"white\",\"zerolinewidth\":2},\"yaxis\":{\"automargin\":true,\"gridcolor\":\"white\",\"linecolor\":\"white\",\"ticks\":\"\",\"title\":{\"standoff\":15},\"zerolinecolor\":\"white\",\"zerolinewidth\":2}}},\"xaxis\":{\"anchor\":\"y\",\"domain\":[0.0,1.0],\"title\":{\"text\":\"year\"}},\"yaxis\":{\"anchor\":\"x\",\"domain\":[0.0,1.0],\"title\":{\"text\":\"pop\"}},\"legend\":{\"tracegroupgap\":0},\"margin\":{\"t\":60},\"barmode\":\"relative\"},                        {\"responsive\": true}                    ).then(function(){\n",
              "                            \n",
              "var gd = document.getElementById('3e89847b-11f0-448b-abbd-a8b51b1fe9e4');\n",
              "var x = new MutationObserver(function (mutations, observer) {{\n",
              "        var display = window.getComputedStyle(gd).display;\n",
              "        if (!display || display === 'none') {{\n",
              "            console.log([gd, 'removed!']);\n",
              "            Plotly.purge(gd);\n",
              "            observer.disconnect();\n",
              "        }}\n",
              "}});\n",
              "\n",
              "// Listen for the removal of the full notebook cells\n",
              "var notebookContainer = gd.closest('#notebook-container');\n",
              "if (notebookContainer) {{\n",
              "    x.observe(notebookContainer, {childList: true});\n",
              "}}\n",
              "\n",
              "// Listen for the clearing of the current output cell\n",
              "var outputEl = gd.closest('.output');\n",
              "if (outputEl) {{\n",
              "    x.observe(outputEl, {childList: true});\n",
              "}}\n",
              "\n",
              "                        })                };                            </script>        </div>\n",
              "</body>\n",
              "</html>"
            ]
          },
          "metadata": {}
        }
      ]
    },
    {
      "cell_type": "markdown",
      "source": [
        "## Quantidade de vôos\n",
        "\n",
        "Objetivo deste gráfico é demonstrar claramente certas tendências quanto à  quantidade de voôs no brasil ao longo do ano, principalmente os picos em 2014, devido à copa do mundo.\n"
      ],
      "metadata": {
        "id": "h4utRQfP3l6k"
      }
    },
    {
      "cell_type": "code",
      "source": [
        "import pandas as pd\n",
        "import math\n",
        "import plotly.express as px\n",
        "import tabela_utils\n",
        "\n",
        "#FAZ TUDO  FAZ TUDO\n",
        "def faztudo(tabela : pd.DataFrame):\n",
        "    tabela = tabela_utils.soma_por_categoria(tabela, 'MÊS', 'DECOLAGENS')\n",
        "    tabela = tabela_utils.filtrar(tabela, ['DECOLAGENS'])\n",
        "    tabela = (tabela['DECOLAGENS'].to_list())\n",
        "    return tabela\n",
        "\n",
        "dados = pd.read_csv('https://raw.githubusercontent.com/DashboardAPC/DashboardAPC/master/Dashboard-Oficial/data/ANAC20XX-13-14-15.csv', sep=';', encoding='latin')\n",
        "print('Filtrando os dados...')\n",
        "filtrado = tabela_utils.filtrar(dados, ['ANO', 'MÊS', 'DECOLAGENS'])\n",
        "\n",
        "print('Retirando os nulos...')\n",
        "semnulo = tabela_utils.retirar_nulos(filtrado)\n",
        "ano1 = tabela_utils.fatiar(semnulo, 'ANO', 2013)\n",
        "ano2 = tabela_utils.fatiar(semnulo, 'ANO', 2014)\n",
        "ano3 = tabela_utils.fatiar(semnulo, 'ANO', 2015)\n",
        "\n",
        "print('Fazendo mágica...')\n",
        "ano2013 = faztudo(ano1)\n",
        "ano2014 = faztudo(ano2)\n",
        "ano2015 = faztudo(ano3)\n",
        "\n",
        "meses = [\"Janeiro\", 'Fevereiro', 'Março', 'Abril', 'Maio', 'Junho', 'Julho', 'Agosto', 'Setembro', 'Outubro', 'Novembro', 'Dezembro', ]*3 #somar o numero de anos\n",
        "anototal = ano2013 + ano2014 + ano2015 #total de decolagens por ano\n",
        "anos = ['2013',]*12 +['2014',]*12 + ['2015',]*12 #anos vezes numero de meses\n",
        "\n",
        "grafico = pd.DataFrame({\n",
        "    \"Mês\": meses,\n",
        "    \"Decolagens\": anototal,\n",
        "    \"Ano\": anos\n",
        "})\n",
        "fig = px.bar(grafico, x=\"Mês\", y=\"Decolagens\", color=\"Ano\", barmode=\"group\", color_discrete_sequence=px.colors.qualitative.Prism, template='plotly_dark', range_y=[80000,100000], title= 'Total de decolagens por mês')\n",
        "fig.show()"
      ],
      "metadata": {
        "id": "21S3TJSV2wVs"
      },
      "execution_count": null,
      "outputs": []
    },
    {
      "cell_type": "markdown",
      "source": [
        "## Preferência de linhas aéreas\n",
        "\n",
        "Objetivo deste gráfico é evidenciar as preferências de linhas aéreas em todos os vôos relacionados ao Brasil, mostrado claramente a tendência de uso das linhas nacionais.\n"
      ],
      "metadata": {
        "id": "w1UHElBN3xyI"
      }
    },
    {
      "cell_type": "code",
      "source": [
        "import tabela_utils\n",
        "import pandas as pd\n",
        "import plotly.express as px\n",
        "\n",
        "def fatiar(tabela: pd.DataFrame, cabeçalho_selecionado: str, alvo: int) -> pd.DataFrame:\n",
        "    tabela = tabela.to_dict()\n",
        "    fatiador = []\n",
        "    linha = tabela[cabeçalho_selecionado]\n",
        "    for id in linha:\n",
        "        if linha[id] != alvo:\n",
        "            fatiador.append(id)\n",
        "    for linha in fatiador:\n",
        "        for corte in tabela:\n",
        "            tabela[corte].pop(linha)\n",
        "    return pd.DataFrame(tabela)\n",
        "\n",
        "def outros(tabela: pd.DataFrame, cabeçalho_selecionado: str, alvo: int) -> pd.DataFrame:\n",
        "    tabela = tabela.to_dict()\n",
        "    fatiador = []\n",
        "    linha = tabela[cabeçalho_selecionado]\n",
        "    for id in linha:\n",
        "        if linha[id] < alvo:\n",
        "            fatiador.append(id)\n",
        "    for linha in fatiador:\n",
        "        for corte in tabela:\n",
        "            tabela[corte].pop(linha)\n",
        "    return pd.DataFrame(tabela)\n",
        "\n",
        "def outros2(tabela: pd.DataFrame, cabeçalho_selecionado: str, alvo: int) -> pd.DataFrame:\n",
        "    tabela = tabela.to_dict()\n",
        "    fatiador = []\n",
        "    linha = tabela[cabeçalho_selecionado]\n",
        "    for id in linha:\n",
        "        if linha[id] > alvo:\n",
        "            fatiador.append(id)\n",
        "    for linha in fatiador:\n",
        "        for corte in tabela:\n",
        "            tabela[corte].pop(linha)\n",
        "    return pd.DataFrame(tabela)\n",
        "\n",
        "def tirazero(tabela: pd.DataFrame):\n",
        "    tabela = tabela.to_dict()\n",
        "    apagar=[]\n",
        "    for cabecalho in tabela:\n",
        "        linhas = tabela[cabecalho]\n",
        "        for index in linhas:\n",
        "            if linhas[index] == 0:\n",
        "                apagar.append(index)\n",
        "    for linha in apagar:\n",
        "        for coluna in tabela:\n",
        "            tabela[coluna].pop(linha)\n",
        "    return pd.DataFrame(tabela)\n",
        "\n",
        "\n",
        "\n",
        "\n",
        "\n",
        "df=pd.read_csv('Dashboard-Oficial\\data\\ANAC20XX-13-14-15.csv',sep=';', encoding='latin')\n",
        "df=tabela_utils.filtrar(df,['ANO', 'EMPRESA (NOME)','PASSAGEIROS PAGOS'])\n",
        "df=tabela_utils.retirar_nulos(df)\n",
        "df = tabela_utils.soma_por_categoria(df, 'EMPRESA (NOME)', 'PASSAGEIROS PAGOS')\n",
        "df = tirazero(df)\n",
        "\n",
        "df1 = outros(df, 'PASSAGEIROS PAGOS', 1500000)\n",
        "df2 = outros2(df, 'PASSAGEIROS PAGOS', 1500000)\n",
        "print(df)\n",
        "\n",
        "setores=px.pie(df1, names='EMPRESA (NOME)',values='PASSAGEIROS PAGOS', color_discrete_sequence=px.colors.qualitative.Prism, template='plotly_dark')\n",
        "setores.show()"
      ],
      "metadata": {
        "id": "wLp_4-uQ3xyP"
      },
      "execution_count": null,
      "outputs": []
    },
    {
      "cell_type": "markdown",
      "source": [
        ""
      ],
      "metadata": {
        "id": "-_RM06ciG2B8"
      }
    },
    {
      "cell_type": "markdown",
      "source": [
        "##Países\n",
        "\n",
        "Esse mapa nos comunica sobre quais países de um grupo seleto tem mais vôos com destino ao Brasil."
      ],
      "metadata": {
        "id": "qdYsbhlAG5Ag"
      }
    },
    {
      "cell_type": "code",
      "source": [
        "import math\n",
        "import pandas as pd\n",
        "import tabela_utils\n",
        "import plotly.express as px\n",
        "\n",
        "def faztudo(tabela : pd.DataFrame):\n",
        "    tabela = tabela_utils.filtrar(tabela, ['DECOLAGENS'])\n",
        "    tabela = (tabela['DECOLAGENS'].to_list())\n",
        "    return tabela\n",
        "print('Lendo as informações...')\n",
        "dados = pd.read_csv('Dashboard-Oficial\\data\\ANAC20XX-13-14-15.csv', sep= ';', encoding= 'latin')\n",
        "print('Filtrando colunas...')\n",
        "colunas_filtradas = tabela_utils.filtrar(dados, ['ANO', 'MÊS', 'AEROPORTO DE ORIGEM (PAÍS)', 'DECOLAGENS'])\n",
        "print('Retirando nulos...')\n",
        "dados_sem_nulos = tabela_utils.retirar_nulos(colunas_filtradas)\n",
        "print('Filtrando anos...')\n",
        "dados_anos = tabela_utils.filtrar_linha(dados_sem_nulos, 'ANO', ['2013', '2014'])\n",
        "print('Filtrando mês...')\n",
        "mes_6 = tabela_utils.filtrar_linha(dados_anos, 'MÊS', ['6'])\n",
        "print('Filtrando países...')\n",
        "dados_paises = tabela_utils.filtrar_linha(mes_6, 'AEROPORTO DE ORIGEM (PAÍS)', ['ESTADOS UNIDOS DA AMÉRICA', 'MÉXICO', 'ARGENTINA', 'CHILE', 'EMIRADOS ÁRABES UNIDOS'] )\n",
        "#print(dados_paises)\n",
        "print('Filtrando o ano de 2013...')\n",
        "dados_2013 = tabela_utils.filtrar_linha(dados_paises, 'ANO', ['2013'])\n",
        "print('Somando...')\n",
        "soma_2013 = tabela_utils.soma_por_categoria(dados_2013, 'AEROPORTO DE ORIGEM (PAÍS)', 'DECOLAGENS')\n",
        "print('Filtrando o ano de 2014...')\n",
        "dados_2014 = tabela_utils.filtrar_linha(dados_paises, 'ANO', ['2014'])\n",
        "print('Somando...')\n",
        "soma_2014 = tabela_utils.soma_por_categoria(dados_2014, 'AEROPORTO DE ORIGEM (PAÍS)', 'DECOLAGENS')\n",
        "\n",
        "ano2013 = faztudo(soma_2013)\n",
        "ano2014 = faztudo(soma_2014)\n",
        "print(soma_2013)\n",
        "print(soma_2014)\n",
        "\n",
        "aeroporto = ['ESTADOS UNIDOS DA AMÉRICA', 'MÉXICO', 'ARGENTINA', 'CHILE', 'EMIRADOS ÁRABES UNIDOS','ESTADOS UNIDOS DA AMÉRICA', 'ARGENTINA', 'CHILE', 'MÉXICO', 'EMIRADOS ÁRABES UNIDOS',]\n",
        "decolagens = ano2013 + ano2014\n",
        "anos = ('2013',)*5 + ('2014',)*5\n",
        "\n",
        "grafico = pd.DataFrame({\n",
        "    \"Países\": aeroporto,\n",
        "    \"Decolagens\": decolagens,\n",
        "    \"Ano\": anos\n",
        "})\n",
        "fig = px.histogram(grafico, x=\"Países\", y=\"Decolagens\",\n",
        "             color='Ano', barmode='group',\n",
        "             histfunc='avg',\n",
        "            title = 'Voos por país durante a copa',\n",
        "             template='plotly_dark')\n",
        "fig.show()"
      ],
      "metadata": {
        "id": "2ueFMcN7HRU1"
      },
      "execution_count": null,
      "outputs": []
    },
    {
      "cell_type": "markdown",
      "source": [
        ""
      ],
      "metadata": {
        "id": "qc2kjbDQHXja"
      }
    },
    {
      "cell_type": "markdown",
      "source": [
        "##Tipos de carga\n",
        "\n",
        "Esse mapa desmostra a relação de proporcinalidade entre o peso de carga/bagagem/correio transportados pelos aviões em cada ano."
      ],
      "metadata": {
        "id": "zp_GE3MWHaOT"
      }
    },
    {
      "cell_type": "code",
      "source": [
        "# ---------------------------- Grafico de Pizza sobre peso carregado pelos avioes ----------------------------\n",
        "import pandas as pd\n",
        "import plotly.express as  px\n",
        "import tabela_utils\n",
        "\n",
        "# ---------------------------------------------- Funcoes uteis ----------------------------------------------\n",
        "def soma_generica_colunas(tabela: pd.DataFrame) -> pd.DataFrame:\n",
        "    tabela_cabecalho = tabela.columns.tolist() # Transformando o cabeçalho do dataframe pra lista\n",
        "    tabela_valores = tabela.values.tolist() # Transformando os valores do dataframe pra lista\n",
        "    \n",
        "    lista_somas = [] # Lista onde serão armazenadas as respostas da soma de cada coluna\n",
        "    for coluna in range(len(tabela_cabecalho)): # Fazendo uma repetição pra cada coluna do cabeçalho\n",
        "        soma_coluna = 0\n",
        "        for linha in range(len(tabela_valores)):\n",
        "            soma_coluna += tabela_valores[linha][coluna]    \n",
        "        lista_somas.append(soma_coluna)\n",
        "\n",
        "    resultado = [tabela_cabecalho, lista_somas]\n",
        "    return pd.DataFrame(resultado)\n",
        "\n",
        "\n",
        "# ---------------------------------------------- Lendo dataset ----------------------------------------------\n",
        "print('Lendo dataset...') # Feedback\n",
        "voos = pd.read_csv('Dashboard-Oficial\\data\\ANAC20XX-13-14-15.csv', sep=';', encoding='latin') #Encoding sendo usado para evitar problemas com acentuacao\n",
        "\n",
        "\n",
        "# --------------------------------------- Manipulando dados necessarios---------------------------------------\n",
        "print('Filtrando dados colunas necessarias do dataset...') # Feedback\n",
        "tabela_de_pesos = tabela_utils.filtrar(voos, ['ANO','CARGA PAGA (KG)','CARGA GRÁTIS (KG)','CORREIO (KG)','BAGAGEM (KG)'])\n",
        "\n",
        "print('Removendo valores invalidos...') # Feedback\n",
        "tabela_de_pesos = tabela_utils.retirar_nulos(tabela_de_pesos)\n",
        "\n",
        "print('Separando anos...') # Feedback\n",
        "peso_2013 = tabela_utils.filtrar_linha(tabela_de_pesos, 'ANO', ['2013.0'])\n",
        "peso_2014 = tabela_utils.filtrar_linha(tabela_de_pesos, 'ANO', ['2014.0'])\n",
        "peso_2015 = tabela_utils.filtrar_linha(tabela_de_pesos, 'ANO', ['2015.0'])\n",
        "# TODO Ver por que o retirar nulos esta transformando os numeros de ano em float\n",
        "\n",
        "print('Filtrando fora coluna ano...') # Feedback\n",
        "peso_2013_pre_soma = tabela_utils.filtrar(peso_2013, ['CARGA PAGA (KG)','CARGA GRÁTIS (KG)','CORREIO (KG)','BAGAGEM (KG)'])\n",
        "peso_2014_pre_soma = tabela_utils.filtrar(peso_2014, ['CARGA PAGA (KG)','CARGA GRÁTIS (KG)','CORREIO (KG)','BAGAGEM (KG)'])\n",
        "peso_2015_pre_soma = tabela_utils.filtrar(peso_2015, ['CARGA PAGA (KG)','CARGA GRÁTIS (KG)','CORREIO (KG)','BAGAGEM (KG)'])\n",
        "\n",
        "print('Somando tudo...') # Feedback\n",
        "peso_2013_somado = soma_generica_colunas(peso_2013_pre_soma)\n",
        "peso_2014_somado = soma_generica_colunas(peso_2014_pre_soma)\n",
        "peso_2015_somado = soma_generica_colunas(peso_2015_pre_soma)\n",
        "\n",
        "# TODO transformar todas as funcoes a cima em uma unica que chama as outras\n",
        "\n",
        "# -------------------------------- Futuro dropdown do Dashboard (Substituir) --------------------------------\n",
        "print('De que ano gostaria de ver o grafico pizza? Digite 2013, 2014 ou 2015')\n",
        "while True:\n",
        "    ano_desejado = input()\n",
        "    if ano_desejado == '2013':\n",
        "        tabela_entrada_pizza = peso_2013_somado\n",
        "        break\n",
        "    elif ano_desejado == '2014':\n",
        "        tabela_entrada_pizza = peso_2014_somado\n",
        "        break\n",
        "    elif ano_desejado == '2015':\n",
        "        tabela_entrada_pizza = peso_2015_somado\n",
        "        break\n",
        "    else:\n",
        "        print('Valor incorreto. Por favor digite 2013, 2014 ou 2015')\n",
        "\n",
        "\n",
        "\n",
        "# ----------------------------------- TODO: Cai na fake news do caio -----------------------------------\n",
        "tabela_entrada_pizza = tabela_entrada_pizza.transpose()\n",
        "# O .transpose provavelmente nao é permitido. Mas sehundo o Mago de APC nao é necesssario fazer a mudanca de eixos. Eu nao consegui plotar a figura sem mudar os eixos entao esse cara vai ficar aqui ate eu a) fazer uma funcao pra substituir ou b) fazer funcionar sem a transposicao de eixos\n",
        "\n",
        "# ----------------------------------- Mostrando tabela do grafico de pizza -----------------------------------\n",
        "# print(tabela_entrada_pizza)\n",
        "\n",
        "\n",
        "# ----------------------------------------- Criando gráfico de pizza -----------------------------------------\n",
        "pizza = px.pie(tabela_entrada_pizza,\n",
        "        values = 1,\n",
        "        names = 0,\n",
        "        hole = .4,\n",
        "        template = 'plotly_dark',\n",
        "        color_discrete_sequence = px.colors.qualitative.Prism,\n",
        "        title = 'Percentual de peso transportado pelos aviões no Brasil em ' + ano_desejado\n",
        "        )\n",
        "\n",
        "\n",
        "# ---------------------------------- Umas frescura pra uma pizza bunitinha ----------------------------------\n",
        "pizza.update_traces(\n",
        "        text =  ['CARGA PAGA','CARGA GRÁTIS','CORREIO','BAGAGEM'],\n",
        "        textinfo = \"text + percent\", \n",
        "        textposition = 'outside',\n",
        "        hovertemplate = '%{value} Kg',\n",
        "        marker = dict(line = dict(color = 'rgb(17, 17, 17)', width = 3)),\n",
        "        )\n",
        "\n",
        "# ---------------------------------------- Mostrando gráfico de pizza ----------------------------------------\n",
        "pizza.show()"
      ],
      "metadata": {
        "id": "cmSSjeYJHnkr"
      },
      "execution_count": null,
      "outputs": []
    },
    {
      "cell_type": "markdown",
      "source": [
        "## Dashboard\n",
        "[Como publicar o seu dashboard usando o colab](https://fmarcelneves.medium.com/deploy-r%C3%A1pido-e-tempor%C3%A1rio-de-webapps-diretamente-do-google-colab-com-ngrok-e056b977c48a)"
      ],
      "metadata": {
        "id": "R5uNNZKj339s"
      }
    },
    {
      "cell_type": "markdown",
      "source": [
        "### Disponibilização "
      ],
      "metadata": {
        "id": "lBfEYeK0opL4"
      }
    }
  ]
}